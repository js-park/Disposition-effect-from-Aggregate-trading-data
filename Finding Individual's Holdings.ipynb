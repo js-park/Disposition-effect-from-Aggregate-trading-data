{
 "cells": [
  {
   "cell_type": "code",
   "execution_count": 1,
   "metadata": {},
   "outputs": [],
   "source": [
    "import pandas as pd\n",
    "import numpy as np"
   ]
  },
  {
   "cell_type": "markdown",
   "metadata": {},
   "source": [
    "#### This code is for practicing python code for looking up how many stocks are traded by the individual investors on average\n",
    "The first example is the Samsung Electronics."
   ]
  },
  {
   "cell_type": "code",
   "execution_count": 47,
   "metadata": {},
   "outputs": [],
   "source": [
    "df = pd.read_csv('C:/Users/Park/Documents/BE_Thesis/Intermediate/A005930.csv', index_col=0)"
   ]
  },
  {
   "cell_type": "code",
   "execution_count": 48,
   "metadata": {},
   "outputs": [
    {
     "data": {
      "text/html": [
       "<div>\n",
       "<style scoped>\n",
       "    .dataframe tbody tr th:only-of-type {\n",
       "        vertical-align: middle;\n",
       "    }\n",
       "\n",
       "    .dataframe tbody tr th {\n",
       "        vertical-align: top;\n",
       "    }\n",
       "\n",
       "    .dataframe thead th {\n",
       "        text-align: right;\n",
       "    }\n",
       "</style>\n",
       "<table border=\"1\" class=\"dataframe\">\n",
       "  <thead>\n",
       "    <tr style=\"text-align: right;\">\n",
       "      <th></th>\n",
       "      <th>Close</th>\n",
       "      <th>Vol</th>\n",
       "      <th>Credited</th>\n",
       "      <th>Outstanding</th>\n",
       "      <th>Foreign_Ratio</th>\n",
       "      <th>Return</th>\n",
       "      <th>Trend</th>\n",
       "      <th>Ind_80_Bought</th>\n",
       "      <th>Ind_80_Sold</th>\n",
       "      <th>Ind_80_Total</th>\n",
       "      <th>...</th>\n",
       "      <th>PEF_31_Sold</th>\n",
       "      <th>PEF_31_Total</th>\n",
       "      <th>Corp_71_Bought</th>\n",
       "      <th>Corp_71_Sold</th>\n",
       "      <th>Corp_71_Total</th>\n",
       "      <th>KOSPI200</th>\n",
       "      <th>Large</th>\n",
       "      <th>Mid</th>\n",
       "      <th>Small</th>\n",
       "      <th>Unclassified</th>\n",
       "    </tr>\n",
       "  </thead>\n",
       "  <tbody>\n",
       "    <tr>\n",
       "      <th>2006-11-02</th>\n",
       "      <td>614000</td>\n",
       "      <td>260489</td>\n",
       "      <td>18748</td>\n",
       "      <td>147299000</td>\n",
       "      <td>49.67</td>\n",
       "      <td>-0.162602</td>\n",
       "      <td>0</td>\n",
       "      <td>55162</td>\n",
       "      <td>52784</td>\n",
       "      <td>2378</td>\n",
       "      <td>...</td>\n",
       "      <td>0</td>\n",
       "      <td>0</td>\n",
       "      <td>0</td>\n",
       "      <td>0</td>\n",
       "      <td>0</td>\n",
       "      <td>1</td>\n",
       "      <td>0</td>\n",
       "      <td>0</td>\n",
       "      <td>0</td>\n",
       "      <td>1</td>\n",
       "    </tr>\n",
       "    <tr>\n",
       "      <th>2006-11-03</th>\n",
       "      <td>611000</td>\n",
       "      <td>280251</td>\n",
       "      <td>19552</td>\n",
       "      <td>147299000</td>\n",
       "      <td>49.59</td>\n",
       "      <td>-0.488599</td>\n",
       "      <td>0</td>\n",
       "      <td>65466</td>\n",
       "      <td>30504</td>\n",
       "      <td>34962</td>\n",
       "      <td>...</td>\n",
       "      <td>0</td>\n",
       "      <td>0</td>\n",
       "      <td>0</td>\n",
       "      <td>0</td>\n",
       "      <td>0</td>\n",
       "      <td>1</td>\n",
       "      <td>0</td>\n",
       "      <td>0</td>\n",
       "      <td>0</td>\n",
       "      <td>1</td>\n",
       "    </tr>\n",
       "    <tr>\n",
       "      <th>2006-11-06</th>\n",
       "      <td>605000</td>\n",
       "      <td>348796</td>\n",
       "      <td>18110</td>\n",
       "      <td>147299000</td>\n",
       "      <td>49.52</td>\n",
       "      <td>-0.981997</td>\n",
       "      <td>0</td>\n",
       "      <td>134285</td>\n",
       "      <td>37273</td>\n",
       "      <td>97012</td>\n",
       "      <td>...</td>\n",
       "      <td>0</td>\n",
       "      <td>0</td>\n",
       "      <td>0</td>\n",
       "      <td>0</td>\n",
       "      <td>0</td>\n",
       "      <td>1</td>\n",
       "      <td>0</td>\n",
       "      <td>0</td>\n",
       "      <td>0</td>\n",
       "      <td>1</td>\n",
       "    </tr>\n",
       "    <tr>\n",
       "      <th>2006-11-07</th>\n",
       "      <td>609000</td>\n",
       "      <td>355836</td>\n",
       "      <td>18325</td>\n",
       "      <td>147299000</td>\n",
       "      <td>49.45</td>\n",
       "      <td>0.661157</td>\n",
       "      <td>0</td>\n",
       "      <td>54666</td>\n",
       "      <td>69222</td>\n",
       "      <td>-14556</td>\n",
       "      <td>...</td>\n",
       "      <td>0</td>\n",
       "      <td>0</td>\n",
       "      <td>0</td>\n",
       "      <td>0</td>\n",
       "      <td>0</td>\n",
       "      <td>1</td>\n",
       "      <td>0</td>\n",
       "      <td>0</td>\n",
       "      <td>0</td>\n",
       "      <td>1</td>\n",
       "    </tr>\n",
       "    <tr>\n",
       "      <th>2006-11-08</th>\n",
       "      <td>615000</td>\n",
       "      <td>280736</td>\n",
       "      <td>19205</td>\n",
       "      <td>147299000</td>\n",
       "      <td>49.45</td>\n",
       "      <td>0.985222</td>\n",
       "      <td>0</td>\n",
       "      <td>37516</td>\n",
       "      <td>58800</td>\n",
       "      <td>-21284</td>\n",
       "      <td>...</td>\n",
       "      <td>0</td>\n",
       "      <td>0</td>\n",
       "      <td>0</td>\n",
       "      <td>0</td>\n",
       "      <td>0</td>\n",
       "      <td>1</td>\n",
       "      <td>0</td>\n",
       "      <td>0</td>\n",
       "      <td>0</td>\n",
       "      <td>1</td>\n",
       "    </tr>\n",
       "  </tbody>\n",
       "</table>\n",
       "<p>5 rows × 51 columns</p>\n",
       "</div>"
      ],
      "text/plain": [
       "             Close     Vol  Credited  Outstanding  Foreign_Ratio    Return  \\\n",
       "2006-11-02  614000  260489     18748    147299000          49.67 -0.162602   \n",
       "2006-11-03  611000  280251     19552    147299000          49.59 -0.488599   \n",
       "2006-11-06  605000  348796     18110    147299000          49.52 -0.981997   \n",
       "2006-11-07  609000  355836     18325    147299000          49.45  0.661157   \n",
       "2006-11-08  615000  280736     19205    147299000          49.45  0.985222   \n",
       "\n",
       "            Trend  Ind_80_Bought  Ind_80_Sold  Ind_80_Total      ...       \\\n",
       "2006-11-02      0          55162        52784          2378      ...        \n",
       "2006-11-03      0          65466        30504         34962      ...        \n",
       "2006-11-06      0         134285        37273         97012      ...        \n",
       "2006-11-07      0          54666        69222        -14556      ...        \n",
       "2006-11-08      0          37516        58800        -21284      ...        \n",
       "\n",
       "            PEF_31_Sold  PEF_31_Total  Corp_71_Bought  Corp_71_Sold  \\\n",
       "2006-11-02            0             0               0             0   \n",
       "2006-11-03            0             0               0             0   \n",
       "2006-11-06            0             0               0             0   \n",
       "2006-11-07            0             0               0             0   \n",
       "2006-11-08            0             0               0             0   \n",
       "\n",
       "            Corp_71_Total  KOSPI200  Large  Mid  Small  Unclassified  \n",
       "2006-11-02              0         1      0    0      0             1  \n",
       "2006-11-03              0         1      0    0      0             1  \n",
       "2006-11-06              0         1      0    0      0             1  \n",
       "2006-11-07              0         1      0    0      0             1  \n",
       "2006-11-08              0         1      0    0      0             1  \n",
       "\n",
       "[5 rows x 51 columns]"
      ]
     },
     "execution_count": 48,
     "metadata": {},
     "output_type": "execute_result"
    }
   ],
   "source": [
    "df.head()"
   ]
  },
  {
   "cell_type": "code",
   "execution_count": 49,
   "metadata": {},
   "outputs": [],
   "source": [
    "df_2011 = df.loc['2011-01-01':'2011-12-31'][['Ind_80_Bought','Ind_80_Sold']]\n",
    "df_2011['Ind_80_Total'] = df_2011.Ind_80_Bought + df_2011.Ind_80_Sold"
   ]
  },
  {
   "cell_type": "code",
   "execution_count": 50,
   "metadata": {},
   "outputs": [
    {
     "data": {
      "text/plain": [
       "248"
      ]
     },
     "execution_count": 50,
     "metadata": {},
     "output_type": "execute_result"
    }
   ],
   "source": [
    "len(df_2011)"
   ]
  },
  {
   "cell_type": "code",
   "execution_count": 51,
   "metadata": {},
   "outputs": [
    {
     "name": "stdout",
     "output_type": "stream",
     "text": [
      "93264.35483870968\n",
      "102154.625\n",
      "195418.97983870967\n"
     ]
    }
   ],
   "source": [
    "print(df_2011.Ind_80_Bought.mean())\n",
    "print(df_2011.Ind_80_Sold.mean())\n",
    "print(df_2011.Ind_80_Total.mean())"
   ]
  },
  {
   "cell_type": "code",
   "execution_count": 52,
   "metadata": {},
   "outputs": [
    {
     "data": {
      "text/html": [
       "<div>\n",
       "<style scoped>\n",
       "    .dataframe tbody tr th:only-of-type {\n",
       "        vertical-align: middle;\n",
       "    }\n",
       "\n",
       "    .dataframe tbody tr th {\n",
       "        vertical-align: top;\n",
       "    }\n",
       "\n",
       "    .dataframe thead th {\n",
       "        text-align: right;\n",
       "    }\n",
       "</style>\n",
       "<table border=\"1\" class=\"dataframe\">\n",
       "  <thead>\n",
       "    <tr style=\"text-align: right;\">\n",
       "      <th></th>\n",
       "      <th>Ind_80_Bought</th>\n",
       "      <th>Ind_80_Sold</th>\n",
       "      <th>Ind_80_Total</th>\n",
       "    </tr>\n",
       "  </thead>\n",
       "  <tbody>\n",
       "    <tr>\n",
       "      <th>2011-01-03</th>\n",
       "      <td>45815</td>\n",
       "      <td>60468</td>\n",
       "      <td>106283</td>\n",
       "    </tr>\n",
       "    <tr>\n",
       "      <th>2011-01-04</th>\n",
       "      <td>58111</td>\n",
       "      <td>52742</td>\n",
       "      <td>110853</td>\n",
       "    </tr>\n",
       "    <tr>\n",
       "      <th>2011-01-05</th>\n",
       "      <td>99469</td>\n",
       "      <td>72692</td>\n",
       "      <td>172161</td>\n",
       "    </tr>\n",
       "    <tr>\n",
       "      <th>2011-01-06</th>\n",
       "      <td>154265</td>\n",
       "      <td>80879</td>\n",
       "      <td>235144</td>\n",
       "    </tr>\n",
       "    <tr>\n",
       "      <th>2011-01-07</th>\n",
       "      <td>201168</td>\n",
       "      <td>91415</td>\n",
       "      <td>292583</td>\n",
       "    </tr>\n",
       "  </tbody>\n",
       "</table>\n",
       "</div>"
      ],
      "text/plain": [
       "            Ind_80_Bought  Ind_80_Sold  Ind_80_Total\n",
       "2011-01-03          45815        60468        106283\n",
       "2011-01-04          58111        52742        110853\n",
       "2011-01-05          99469        72692        172161\n",
       "2011-01-06         154265        80879        235144\n",
       "2011-01-07         201168        91415        292583"
      ]
     },
     "execution_count": 52,
     "metadata": {},
     "output_type": "execute_result"
    }
   ],
   "source": [
    "df_2011.head()"
   ]
  },
  {
   "cell_type": "code",
   "execution_count": 43,
   "metadata": {},
   "outputs": [
    {
     "data": {
      "text/plain": [
       "0.014449604565041515"
      ]
     },
     "execution_count": 43,
     "metadata": {},
     "output_type": "execute_result"
    }
   ],
   "source": [
    "(224309/15523539)"
   ]
  },
  {
   "cell_type": "markdown",
   "metadata": {},
   "source": [
    "Individual investors are trading almost 1.44 per cent of their holdings. The percentage is not so different by time changes.\n",
    "df_2013 is presenting the "
   ]
  },
  {
   "cell_type": "code",
   "execution_count": 18,
   "metadata": {},
   "outputs": [],
   "source": [
    "df_2013 = df.loc['2013-01-01':'2013-12-31'][['Ind_80_Bought','Ind_80_Sold']]"
   ]
  },
  {
   "cell_type": "code",
   "execution_count": 19,
   "metadata": {},
   "outputs": [],
   "source": [
    "df_2013['Ind_80_Total'] = df_2013.Ind_80_Bought+df_2013.Ind_80_Sold"
   ]
  },
  {
   "cell_type": "code",
   "execution_count": 20,
   "metadata": {},
   "outputs": [
    {
     "data": {
      "text/plain": [
       "124393.12955465587"
      ]
     },
     "execution_count": 20,
     "metadata": {},
     "output_type": "execute_result"
    }
   ],
   "source": [
    "df_2013.Ind_80_Total.mean()"
   ]
  },
  {
   "cell_type": "code",
   "execution_count": 21,
   "metadata": {},
   "outputs": [
    {
     "data": {
      "text/plain": [
       "1.9073614187151513"
      ]
     },
     "execution_count": 21,
     "metadata": {},
     "output_type": "execute_result"
    }
   ],
   "source": [
    "(124393/6521732)*100"
   ]
  },
  {
   "cell_type": "markdown",
   "metadata": {},
   "source": [
    "#### A006800 미래에셋 대우"
   ]
  },
  {
   "cell_type": "code",
   "execution_count": 101,
   "metadata": {},
   "outputs": [
    {
     "name": "stdout",
     "output_type": "stream",
     "text": [
      "1375467.94\n",
      "1419796.372\n",
      "2795264.312\n",
      "0.04011678825998984\n"
     ]
    }
   ],
   "source": [
    "df = pd.read_csv('C:/Users/Park/Documents/BE_Thesis/Intermediate/A006800.csv', index_col=0)\n",
    "df_2011 = df.loc['2011-04-01':'2012-03-31'][['Ind_80_Bought','Ind_80_Sold']]\n",
    "df_2011['Ind_80_Total'] = df_2011.Ind_80_Bought + df_2011.Ind_80_Sold\n",
    "print(df_2011.Ind_80_Bought.mean())\n",
    "print(df_2011.Ind_80_Sold.mean())\n",
    "print(df_2011.Ind_80_Total.mean())\n",
    "print(df_2011.Ind_80_Total.mean()/69678168)"
   ]
  },
  {
   "cell_type": "code",
   "execution_count": 102,
   "metadata": {},
   "outputs": [
    {
     "name": "stdout",
     "output_type": "stream",
     "text": [
      "1111876.8902439023\n",
      "1039314.918699187\n",
      "2151191.8089430896\n",
      "0.023239254458101936\n"
     ]
    }
   ],
   "source": [
    "df_2016 = df.loc['2016-01-01':'2016-12-31'][['Ind_80_Bought','Ind_80_Sold']]\n",
    "df_2016['Ind_80_Total'] = df_2016.Ind_80_Bought + df_2016.Ind_80_Sold\n",
    "print(df_2016.Ind_80_Bought.mean())\n",
    "print(df_2016.Ind_80_Sold.mean())\n",
    "print(df_2016.Ind_80_Total.mean())\n",
    "print(df_2016.Ind_80_Total.mean()/92567161)"
   ]
  },
  {
   "cell_type": "markdown",
   "metadata": {},
   "source": [
    "#### A032640 LG유플러스"
   ]
  },
  {
   "cell_type": "code",
   "execution_count": 91,
   "metadata": {},
   "outputs": [
    {
     "name": "stdout",
     "output_type": "stream",
     "text": [
      "1317631.2540322582\n",
      "1279875.0403225806\n",
      "2597506.294354839\n",
      "0.03853931518962912\n"
     ]
    }
   ],
   "source": [
    "df = pd.read_csv('C:/Users/Park/Documents/BE_Thesis/Intermediate/A032640.csv', index_col=0)\n",
    "df_2011 = df.loc['2011-01-01':'2011-12-31'][['Ind_80_Bought','Ind_80_Sold']]\n",
    "df_2011['Ind_80_Total'] = df_2011.Ind_80_Bought + df_2011.Ind_80_Sold\n",
    "print(df_2011.Ind_80_Bought.mean())\n",
    "print(df_2011.Ind_80_Sold.mean())\n",
    "print(df_2011.Ind_80_Total.mean())\n",
    "print(df_2011.Ind_80_Total.mean()/67398870)"
   ]
  },
  {
   "cell_type": "code",
   "execution_count": 92,
   "metadata": {},
   "outputs": [
    {
     "name": "stdout",
     "output_type": "stream",
     "text": [
      "318373.55284552847\n",
      "348467.22357723577\n",
      "666840.7764227642\n",
      "0.023861764541251784\n"
     ]
    }
   ],
   "source": [
    "df_2016 = df.loc['2016-01-01':'2016-12-31'][['Ind_80_Bought','Ind_80_Sold']]\n",
    "df_2016['Ind_80_Total'] = df_2016.Ind_80_Bought + df_2016.Ind_80_Sold\n",
    "print(df_2016.Ind_80_Bought.mean())\n",
    "print(df_2016.Ind_80_Sold.mean())\n",
    "print(df_2016.Ind_80_Total.mean())\n",
    "print(df_2016.Ind_80_Total.mean()/27945996)"
   ]
  },
  {
   "cell_type": "markdown",
   "metadata": {},
   "source": [
    "#### A005830 디비손해보험"
   ]
  },
  {
   "cell_type": "code",
   "execution_count": 94,
   "metadata": {},
   "outputs": [
    {
     "name": "stdout",
     "output_type": "stream",
     "text": [
      "62501.968\n",
      "66929.94\n",
      "129431.908\n",
      "0.005248579319775007\n"
     ]
    }
   ],
   "source": [
    "df = pd.read_csv('C:/Users/Park/Documents/BE_Thesis/Intermediate/A005830.csv', index_col=0)\n",
    "df_2011 = df.loc['2011-04-01':'2012-03-31'][['Ind_80_Bought','Ind_80_Sold']]\n",
    "df_2011['Ind_80_Total'] = df_2011.Ind_80_Bought + df_2011.Ind_80_Sold\n",
    "print(df_2011.Ind_80_Bought.mean())\n",
    "print(df_2011.Ind_80_Sold.mean())\n",
    "print(df_2011.Ind_80_Total.mean())\n",
    "print(df_2011.Ind_80_Total.mean()/24660370)"
   ]
  },
  {
   "cell_type": "code",
   "execution_count": 95,
   "metadata": {},
   "outputs": [
    {
     "name": "stdout",
     "output_type": "stream",
     "text": [
      "21694.459349593497\n",
      "20644.642276422765\n",
      "42339.10162601626\n",
      "0.0029918791177469513\n"
     ]
    }
   ],
   "source": [
    "df_2016 = df.loc['2016-01-01':'2016-12-31'][['Ind_80_Bought','Ind_80_Sold']]\n",
    "df_2016['Ind_80_Total'] = df_2016.Ind_80_Bought + df_2016.Ind_80_Sold\n",
    "print(df_2016.Ind_80_Bought.mean())\n",
    "print(df_2016.Ind_80_Sold.mean())\n",
    "print(df_2016.Ind_80_Total.mean())\n",
    "print(df_2016.Ind_80_Total.mean()/14151341)"
   ]
  },
  {
   "cell_type": "markdown",
   "metadata": {},
   "source": [
    "#### A004710 한솔테크닉스"
   ]
  },
  {
   "cell_type": "code",
   "execution_count": 97,
   "metadata": {},
   "outputs": [
    {
     "name": "stdout",
     "output_type": "stream",
     "text": [
      "124021.54838709677\n",
      "117235.50806451614\n",
      "241257.0564516129\n",
      "0.0847155961860356\n"
     ]
    }
   ],
   "source": [
    "df = pd.read_csv('C:/Users/Park/Documents/BE_Thesis/Intermediate/A004710.csv', index_col=0)\n",
    "df_2011 = df.loc['2011-01-01':'2011-12-31'][['Ind_80_Bought','Ind_80_Sold']]\n",
    "df_2011['Ind_80_Total'] = df_2011.Ind_80_Bought + df_2011.Ind_80_Sold\n",
    "print(df_2011.Ind_80_Bought.mean())\n",
    "print(df_2011.Ind_80_Sold.mean())\n",
    "print(df_2011.Ind_80_Total.mean())\n",
    "print(df_2011.Ind_80_Total.mean()/2847847)"
   ]
  },
  {
   "cell_type": "code",
   "execution_count": 99,
   "metadata": {},
   "outputs": [
    {
     "name": "stdout",
     "output_type": "stream",
     "text": [
      "206123.54471544715\n",
      "190624.9349593496\n",
      "396748.47967479675\n",
      "0.04452784919561092\n"
     ]
    }
   ],
   "source": [
    "df_2016 = df.loc['2016-01-01':'2016-12-31'][['Ind_80_Bought','Ind_80_Sold']]\n",
    "df_2016['Ind_80_Total'] = df_2016.Ind_80_Bought + df_2016.Ind_80_Sold\n",
    "print(df_2016.Ind_80_Bought.mean())\n",
    "print(df_2016.Ind_80_Sold.mean())\n",
    "print(df_2016.Ind_80_Total.mean())\n",
    "print(df_2016.Ind_80_Total.mean()/8910120)"
   ]
  },
  {
   "cell_type": "markdown",
   "metadata": {},
   "source": [
    "#### A003470 유안타증권"
   ]
  },
  {
   "cell_type": "code",
   "execution_count": 65,
   "metadata": {},
   "outputs": [
    {
     "name": "stdout",
     "output_type": "stream",
     "text": [
      "623154.724\n",
      "625651.716\n",
      "1248806.44\n"
     ]
    }
   ],
   "source": [
    "df = pd.read_csv('C:/Users/Park/Documents/BE_Thesis/Intermediate/A003470.csv', index_col=0)\n",
    "df_2011 = df.loc['2011-04-01':'2012-03-31'][['Ind_80_Bought','Ind_80_Sold']]\n",
    "df_2011['Ind_80_Total'] = df_2011.Ind_80_Bought + df_2011.Ind_80_Sold\n",
    "print(df_2011.Ind_80_Bought.mean())\n",
    "print(df_2011.Ind_80_Sold.mean())\n",
    "print(df_2011.Ind_80_Total.mean())"
   ]
  },
  {
   "cell_type": "code",
   "execution_count": 66,
   "metadata": {},
   "outputs": [
    {
     "data": {
      "text/plain": [
       "0.0165340022810935"
      ]
     },
     "execution_count": 66,
     "metadata": {},
     "output_type": "execute_result"
    }
   ],
   "source": [
    "1248806/75529565"
   ]
  },
  {
   "cell_type": "code",
   "execution_count": 67,
   "metadata": {},
   "outputs": [
    {
     "name": "stdout",
     "output_type": "stream",
     "text": [
      "474011.47154471546\n",
      "479105.3617886179\n",
      "953116.8333333334\n"
     ]
    }
   ],
   "source": [
    "df_2016 = df.loc['2016-01-01':'2016-12-31'][['Ind_80_Bought','Ind_80_Sold']]\n",
    "df_2016['Ind_80_Total'] = df_2016.Ind_80_Bought + df_2016.Ind_80_Sold\n",
    "print(df_2016.Ind_80_Bought.mean())\n",
    "print(df_2016.Ind_80_Sold.mean())\n",
    "print(df_2016.Ind_80_Total.mean())"
   ]
  },
  {
   "cell_type": "code",
   "execution_count": 68,
   "metadata": {},
   "outputs": [
    {
     "data": {
      "text/plain": [
       "0.0123665257326784"
      ]
     },
     "execution_count": 68,
     "metadata": {},
     "output_type": "execute_result"
    }
   ],
   "source": [
    "953116/77072253"
   ]
  },
  {
   "cell_type": "markdown",
   "metadata": {},
   "source": [
    "#### A003540 대신증권"
   ]
  },
  {
   "cell_type": "code",
   "execution_count": 73,
   "metadata": {},
   "outputs": [
    {
     "name": "stdout",
     "output_type": "stream",
     "text": [
      "113868.304\n",
      "122249.1\n",
      "236117.404\n"
     ]
    }
   ],
   "source": [
    "df = pd.read_csv('C:/Users/Park/Documents/BE_Thesis/Intermediate/A003540.csv', index_col=0)\n",
    "df_2011 = df.loc['2011-04-01':'2012-03-31'][['Ind_80_Bought','Ind_80_Sold']]\n",
    "df_2011['Ind_80_Total'] = df_2011.Ind_80_Bought + df_2011.Ind_80_Sold\n",
    "print(df_2011.Ind_80_Bought.mean())\n",
    "print(df_2011.Ind_80_Sold.mean())\n",
    "print(df_2011.Ind_80_Total.mean())"
   ]
  },
  {
   "cell_type": "code",
   "execution_count": 74,
   "metadata": {},
   "outputs": [
    {
     "data": {
      "text/plain": [
       "0.004906062559135669"
      ]
     },
     "execution_count": 74,
     "metadata": {},
     "output_type": "execute_result"
    }
   ],
   "source": [
    "df_2011.Ind_80_Total.mean()/48127679"
   ]
  },
  {
   "cell_type": "code",
   "execution_count": 75,
   "metadata": {},
   "outputs": [
    {
     "name": "stdout",
     "output_type": "stream",
     "text": [
      "71892.35365853658\n",
      "76496.35365853658\n",
      "148388.70731707316\n"
     ]
    }
   ],
   "source": [
    "df_2016 = df.loc['2016-01-01':'2016-12-31'][['Ind_80_Bought','Ind_80_Sold']]\n",
    "df_2016['Ind_80_Total'] = df_2016.Ind_80_Bought + df_2016.Ind_80_Sold\n",
    "print(df_2016.Ind_80_Bought.mean())\n",
    "print(df_2016.Ind_80_Sold.mean())\n",
    "print(df_2016.Ind_80_Total.mean())"
   ]
  },
  {
   "cell_type": "code",
   "execution_count": 77,
   "metadata": {},
   "outputs": [
    {
     "data": {
      "text/plain": [
       "0.006594133703616778"
      ]
     },
     "execution_count": 77,
     "metadata": {},
     "output_type": "execute_result"
    }
   ],
   "source": [
    "df_2016.Ind_80_Total.mean()/22503139"
   ]
  },
  {
   "cell_type": "markdown",
   "metadata": {},
   "source": [
    "#### A000100 유한양행"
   ]
  },
  {
   "cell_type": "code",
   "execution_count": 82,
   "metadata": {},
   "outputs": [
    {
     "name": "stdout",
     "output_type": "stream",
     "text": [
      "10824.548387096775\n",
      "10524.790322580646\n",
      "21349.33870967742\n",
      "0.01218929256503056\n"
     ]
    }
   ],
   "source": [
    "df = pd.read_csv('C:/Users/Park/Documents/BE_Thesis/Intermediate/A000100.csv', index_col=0)\n",
    "df_2011 = df.loc['2011-01-01':'2011-12-31'][['Ind_80_Bought','Ind_80_Sold']]\n",
    "df_2011['Ind_80_Total'] = df_2011.Ind_80_Bought + df_2011.Ind_80_Sold\n",
    "print(df_2011.Ind_80_Bought.mean())\n",
    "print(df_2011.Ind_80_Sold.mean())\n",
    "print(df_2011.Ind_80_Total.mean())\n",
    "print(df_2011.Ind_80_Total.mean()/1751483)"
   ]
  },
  {
   "cell_type": "code",
   "execution_count": 83,
   "metadata": {},
   "outputs": [
    {
     "name": "stdout",
     "output_type": "stream",
     "text": [
      "14228.032520325203\n",
      "11699.471544715447\n",
      "25927.50406504065\n",
      "0.02667869611145077\n"
     ]
    }
   ],
   "source": [
    "df_2016 = df.loc['2016-01-01':'2016-12-31'][['Ind_80_Bought','Ind_80_Sold']]\n",
    "df_2016['Ind_80_Total'] = df_2016.Ind_80_Bought + df_2016.Ind_80_Sold\n",
    "print(df_2016.Ind_80_Bought.mean())\n",
    "print(df_2016.Ind_80_Sold.mean())\n",
    "print(df_2016.Ind_80_Total.mean())\n",
    "print(df_2016.Ind_80_Total.mean()/971843)"
   ]
  },
  {
   "cell_type": "markdown",
   "metadata": {},
   "source": [
    "#### A088980 맥쿼리 인프라"
   ]
  },
  {
   "cell_type": "code",
   "execution_count": 84,
   "metadata": {},
   "outputs": [
    {
     "name": "stdout",
     "output_type": "stream",
     "text": [
      "193811.68951612903\n",
      "117212.81854838709\n",
      "311024.5080645161\n",
      "0.006240526870534622\n"
     ]
    }
   ],
   "source": [
    "df = pd.read_csv('C:/Users/Park/Documents/BE_Thesis/Intermediate/A088980.csv', index_col=0)\n",
    "df_2011 = df.loc['2011-01-01':'2011-12-31'][['Ind_80_Bought','Ind_80_Sold']]\n",
    "df_2011['Ind_80_Total'] = df_2011.Ind_80_Bought + df_2011.Ind_80_Sold\n",
    "print(df_2011.Ind_80_Bought.mean())\n",
    "print(df_2011.Ind_80_Sold.mean())\n",
    "print(df_2011.Ind_80_Total.mean())\n",
    "print(df_2011.Ind_80_Total.mean()/49839463)"
   ]
  },
  {
   "cell_type": "code",
   "execution_count": 85,
   "metadata": {},
   "outputs": [
    {
     "name": "stdout",
     "output_type": "stream",
     "text": [
      "226057.25609756098\n",
      "178615.69918699187\n",
      "404672.9552845528\n",
      "0.0048008356466206084\n"
     ]
    }
   ],
   "source": [
    "df_2016 = df.loc['2016-01-01':'2016-12-31'][['Ind_80_Bought','Ind_80_Sold']]\n",
    "df_2016['Ind_80_Total'] = df_2016.Ind_80_Bought + df_2016.Ind_80_Sold\n",
    "print(df_2016.Ind_80_Bought.mean())\n",
    "print(df_2016.Ind_80_Sold.mean())\n",
    "print(df_2016.Ind_80_Total.mean())\n",
    "print(df_2016.Ind_80_Total.mean()/84292191)"
   ]
  },
  {
   "cell_type": "markdown",
   "metadata": {},
   "source": [
    "#### A007690 국도화학"
   ]
  },
  {
   "cell_type": "code",
   "execution_count": 86,
   "metadata": {},
   "outputs": [
    {
     "name": "stdout",
     "output_type": "stream",
     "text": [
      "19139.923387096773\n",
      "22055.50806451613\n",
      "41195.4314516129\n",
      "0.023360901565191175\n"
     ]
    }
   ],
   "source": [
    "df = pd.read_csv('C:/Users/Park/Documents/BE_Thesis/Intermediate/A007690.csv', index_col=0)\n",
    "df_2011 = df.loc['2011-01-01':'2011-12-31'][['Ind_80_Bought','Ind_80_Sold']]\n",
    "df_2011['Ind_80_Total'] = df_2011.Ind_80_Bought + df_2011.Ind_80_Sold\n",
    "print(df_2011.Ind_80_Bought.mean())\n",
    "print(df_2011.Ind_80_Sold.mean())\n",
    "print(df_2011.Ind_80_Total.mean())\n",
    "print(df_2011.Ind_80_Total.mean()/1763435)"
   ]
  },
  {
   "cell_type": "code",
   "execution_count": 87,
   "metadata": {},
   "outputs": [
    {
     "name": "stdout",
     "output_type": "stream",
     "text": [
      "8072.524390243902\n",
      "8319.91056910569\n",
      "16392.434959349594\n",
      "0.01203072108971544\n"
     ]
    }
   ],
   "source": [
    "df_2016 = df.loc['2016-01-01':'2016-12-31'][['Ind_80_Bought','Ind_80_Sold']]\n",
    "df_2016['Ind_80_Total'] = df_2016.Ind_80_Bought + df_2016.Ind_80_Sold\n",
    "print(df_2016.Ind_80_Bought.mean())\n",
    "print(df_2016.Ind_80_Sold.mean())\n",
    "print(df_2016.Ind_80_Total.mean())\n",
    "print(df_2016.Ind_80_Total.mean()/1362548)"
   ]
  },
  {
   "cell_type": "markdown",
   "metadata": {},
   "source": [
    "#### A095720 웅진 씽크빅"
   ]
  },
  {
   "cell_type": "code",
   "execution_count": 88,
   "metadata": {},
   "outputs": [
    {
     "name": "stdout",
     "output_type": "stream",
     "text": [
      "77004.34274193548\n",
      "74492.20564516129\n",
      "151496.5483870968\n",
      "0.03856706185536406\n"
     ]
    }
   ],
   "source": [
    "df = pd.read_csv('C:/Users/Park/Documents/BE_Thesis/Intermediate/A095720.csv', index_col=0)\n",
    "df_2011 = df.loc['2011-01-01':'2011-12-31'][['Ind_80_Bought','Ind_80_Sold']]\n",
    "df_2011['Ind_80_Total'] = df_2011.Ind_80_Bought + df_2011.Ind_80_Sold\n",
    "print(df_2011.Ind_80_Bought.mean())\n",
    "print(df_2011.Ind_80_Sold.mean())\n",
    "print(df_2011.Ind_80_Total.mean())\n",
    "print(df_2011.Ind_80_Total.mean()/3928133)"
   ]
  },
  {
   "cell_type": "code",
   "execution_count": 89,
   "metadata": {},
   "outputs": [
    {
     "name": "stdout",
     "output_type": "stream",
     "text": [
      "146098.8536585366\n",
      "148321.0162601626\n",
      "294419.8699186992\n",
      "0.018619522017692486\n"
     ]
    }
   ],
   "source": [
    "df_2016 = df.loc['2016-01-01':'2016-12-31'][['Ind_80_Bought','Ind_80_Sold']]\n",
    "df_2016['Ind_80_Total'] = df_2016.Ind_80_Bought + df_2016.Ind_80_Sold\n",
    "print(df_2016.Ind_80_Bought.mean())\n",
    "print(df_2016.Ind_80_Sold.mean())\n",
    "print(df_2016.Ind_80_Total.mean())\n",
    "print(df_2016.Ind_80_Total.mean()/15812429)"
   ]
  },
  {
   "cell_type": "code",
   "execution_count": null,
   "metadata": {},
   "outputs": [],
   "source": []
  }
 ],
 "metadata": {
  "kernelspec": {
   "display_name": "Python 3",
   "language": "python",
   "name": "python3"
  },
  "language_info": {
   "codemirror_mode": {
    "name": "ipython",
    "version": 3
   },
   "file_extension": ".py",
   "mimetype": "text/x-python",
   "name": "python",
   "nbconvert_exporter": "python",
   "pygments_lexer": "ipython3",
   "version": "3.6.4"
  }
 },
 "nbformat": 4,
 "nbformat_minor": 2
}
